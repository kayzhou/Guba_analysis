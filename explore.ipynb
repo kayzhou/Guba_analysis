{
 "cells": [
  {
   "cell_type": "code",
   "execution_count": 14,
   "metadata": {
    "scrolled": false
   },
   "outputs": [
    {
     "name": "stdout",
     "output_type": "stream",
     "text": [
      "数据加载完成 ...\n"
     ]
    },
    {
     "data": {
      "image/png": "[encoded data removed]",
      "text/plain": [
       "<matplotlib.figure.Figure at 0x7f97e5bea940>"
      ]
     },
     "metadata": {},
     "output_type": "display_data"
    },
    {
     "name": "stdout",
     "output_type": "stream",
     "text": [
      "0 9999\n",
      "count    8.782332e+07\n",
      "mean     1.074121e+02\n",
      "std      3.885448e+02\n",
      "min      0.000000e+00\n",
      "25%      8.000000e+00\n",
      "50%      1.600000e+01\n",
      "75%      3.400000e+01\n",
      "max      9.999000e+03\n",
      "dtype: float64\n"
     ]
    }
   ],
   "source": [
    "# 格力电器 000651\n",
    "import os\n",
    "import json\n",
    "import numpy as np\n",
    "import pandas as pd\n",
    "import matplotlib.pyplot as plt\n",
    "\n",
    "# in_dir = '/home/kayzhou/Project/Guba_spider/guba/data'\n",
    "# in_name = '/home/kayzhou/Project/Guba_spider/guba/data/000651.txt'\n",
    "\n",
    "# \n",
    "# _list_len = []\n",
    "# for i, in_name in enumerate(os.listdir(in_dir)):\n",
    "#     print(i)\n",
    "#     if i > 10:\n",
    "#         break\n",
    "#     in_name = os.path.join(in_dir, in_name)\n",
    "#     for j, line in enumerate(open(in_name)):\n",
    "# #         print(line)\n",
    "#         try:\n",
    "#             _list_len.append(len(json.loads(line)['content']))\n",
    "#         except:\n",
    "# #             print('Q&A')\n",
    "#             pass\n",
    "\n",
    "def get_cdf_pdf(data, mini, maxi, step, norm=True):\n",
    "    x = [float(i) for i in np.arange(mini, maxi, step)]\n",
    "    cdf = [0] * len(x)\n",
    "    pdf = [0] * len(x)\n",
    "    count = 0\n",
    "    for d in data:\n",
    "        d = float(d)\n",
    "        if d < mini or d > maxi:\n",
    "            continue\n",
    "        count += 1\n",
    "        for i in range(len(x)):\n",
    "            if i == (len(x) - 1) and d >= x[i]:\n",
    "                pdf[i] += 1\n",
    "            elif d >= x[i] and d < x[i+1]:\n",
    "                pdf[i] += 1\n",
    "\n",
    "            if d >= x[i]:\n",
    "                cdf[i] += 1\n",
    "\n",
    "    if norm:\n",
    "        cdf = [c / count for c in cdf]\n",
    "        pdf = [p / count for p in pdf]\n",
    "\n",
    "    return x, cdf, pdf\n",
    "\n",
    "_lens = [int(line.strip()) for line in open('data/content_len.txt') if int(line.strip()) < 10e3]\n",
    "print('数据加载完成 ...')\n",
    "x, cdf, pdf = get_cdf_pdf(_lens, 0, 1000, 10)\n",
    "plt.plot(x, pdf)\n",
    "plt.yscale('log')\n",
    "plt.show()\n",
    "\n",
    "\n",
    "_lens = pd.Series(_lens)\n",
    "print(_lens.min(), _lens.max())\n",
    "print(_lens.describe())\n"
   ]
  }
 ],
 "metadata": {
  "kernelspec": {
   "display_name": "Python 3",
   "language": "python",
   "name": "python3"
  },
  "language_info": {
   "codemirror_mode": {
    "name": "ipython",
    "version": 3
   },
   "file_extension": ".py",
   "mimetype": "text/x-python",
   "name": "python",
   "nbconvert_exporter": "python",
   "pygments_lexer": "ipython3",
   "version": "3.6.1"
  }
 },
 "nbformat": 4,
 "nbformat_minor": 2
}
