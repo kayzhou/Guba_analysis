{
 "cells": [
  {
   "cell_type": "code",
   "execution_count": 9,
   "metadata": {
    "collapsed": true,
    "scrolled": false
   },
   "outputs": [],
   "source": [
    "# 格力电器 000651\n",
    "import os\n",
    "import json\n",
    "import numpy as np\n",
    "import pandas as pd\n",
    "import matplotlib.pyplot as plt\n",
    "from tqdm import tqdm_notebook as tqdm\n",
    "\n",
    "def get_cdf_pdf(data, mini, maxi, step, norm=True):\n",
    "    x = [float(i) for i in np.arange(mini, maxi, step)]\n",
    "    cdf = [0] * len(x)\n",
    "    pdf = [0] * len(x)\n",
    "    count = 0\n",
    "    for d in tqdm(data):\n",
    "        d = float(d)\n",
    "        if d < mini or d > maxi:\n",
    "            continue\n",
    "        count += 1\n",
    "        for i in range(len(x)):\n",
    "            if i == (len(x) - 1) and d >= x[i]:\n",
    "                pdf[i] += 1\n",
    "            elif d >= x[i] and d < x[i+1]:\n",
    "                pdf[i] += 1\n",
    "\n",
    "            if d >= x[i]:\n",
    "                cdf[i] += 1\n",
    "\n",
    "    if norm:\n",
    "        cdf = [c / count for c in cdf]\n",
    "        pdf = [p / count for p in pdf]\n",
    "\n",
    "    return x, cdf, pdf"
   ]
  },
  {
   "cell_type": "code",
   "execution_count": 47,
   "metadata": {
    "scrolled": false
   },
   "outputs": [
    {
     "name": "stdout",
     "output_type": "stream",
     "text": [
      "数据加载完成 ...\n",
      "0.0 1.0\n",
      "10.0 0.6824949082304188\n",
      "20.0 0.3908336374660058\n",
      "30.0 0.2406674436765912\n",
      "40.0 0.177426684404469\n",
      "50.0 0.14249027756521193\n",
      "60.0 0.12091373227691378\n",
      "70.0 0.10610423705866424\n",
      "80.0 0.09494119447616581\n",
      "90.0 0.08621199813203674\n",
      "100.0 0.07929190065260985\n",
      "110.0 0.07361580391094995\n",
      "120.0 0.06864686468646865\n",
      "130.0 0.06425165703252846\n",
      "140.0 0.06017039278244114\n",
      "150.0 0.05704744077261472\n",
      "160.0 0.05413875513591787\n",
      "170.0 0.051587180121103665\n",
      "180.0 0.049217692280524125\n",
      "190.0 0.04706168595456454\n",
      "200.0 0.04518273468250511\n",
      "210.0 0.04324491902222327\n",
      "220.0 0.04148526624362793\n",
      "230.0 0.039990110782778636\n",
      "240.0 0.03844943352837067\n",
      "250.0 0.0367839637709312\n",
      "260.0 0.03531784807493829\n",
      "270.0 0.03391373620120633\n",
      "280.0 0.031890370963374576\n",
      "290.0 0.02958210208654635\n",
      "300.0 0.028023373086416847\n",
      "310.0 0.026443452906527276\n",
      "320.0 0.024803098621396028\n",
      "330.0 0.02379769487055721\n",
      "340.0 0.022923362490826965\n",
      "350.0 0.02218873492581125\n",
      "360.0 0.021529453777720222\n",
      "370.0 0.020804244514820092\n",
      "380.0 0.020159090819902442\n",
      "390.0 0.019533558587725597\n",
      "400.0 0.01894648442252073\n",
      "410.0 0.018345282804142483\n",
      "420.0 0.017740156893216074\n",
      "430.0 0.017243341456618908\n",
      "440.0 0.016773996067858867\n",
      "450.0 0.016311714405685514\n",
      "460.0 0.01586356019668554\n",
      "470.0 0.015386366222829179\n",
      "480.0 0.014895044795799436\n",
      "490.0 0.014396659642183006\n",
      "500.0 0.01393280826299039\n",
      "510.0 0.013553721602838048\n",
      "520.0 0.013153443762925638\n",
      "530.0 0.012802612009120055\n",
      "540.0 0.01238977643305353\n",
      "550.0 0.01204679326434427\n",
      "560.0 0.01169674636904832\n",
      "570.0 0.0112132735271149\n",
      "580.0 0.010471582235512493\n",
      "590.0 0.010166272275265576\n",
      "600.0 0.009696142027995904\n",
      "610.0 0.009140462203176323\n",
      "620.0 0.008828088516342716\n",
      "630.0 0.008527487707153593\n",
      "640.0 0.008243368926666746\n",
      "650.0 0.007952186419593207\n",
      "660.0 0.007670422214635256\n",
      "670.0 0.007370606263955765\n",
      "680.0 0.0070919814930363425\n",
      "690.0 0.006841611628463679\n",
      "700.0 0.006573974876679107\n",
      "710.0 0.006333023314222029\n",
      "720.0 0.006103059770899801\n",
      "730.0 0.005884869105222056\n",
      "740.0 0.005645487259784242\n",
      "750.0 0.005410814565404222\n",
      "760.0 0.005198902767803534\n",
      "770.0 0.004962660356404249\n",
      "780.0 0.004680111292936666\n",
      "790.0 0.004419538267738783\n",
      "800.0 0.0041942838754743484\n",
      "810.0 0.003973738634267707\n",
      "820.0 0.0037374962228684224\n",
      "830.0 0.00351302668911362\n",
      "840.0 0.00330739375958999\n",
      "850.0 0.0030468207343921075\n",
      "860.0 0.00285296068251296\n",
      "870.0 0.0026543914795760194\n",
      "880.0 0.0024228582192345276\n",
      "890.0 0.002197603826970093\n",
      "900.0 0.0020131620772065317\n",
      "910.0 0.0018240111763851772\n",
      "920.0 0.0016356451340734548\n",
      "930.0 0.0014237333364727673\n",
      "940.0 0.0011498177166111379\n",
      "950.0 0.0009528182306934618\n",
      "960.0 0.0007723007734780613\n",
      "970.0 0.0006051259109264077\n",
      "980.0 0.0004253933122206394\n",
      "990.0 0.00019464491038877966\n"
     ]
    },
    {
     "data": {
      "image/png": "[encoded data removed]",
      "text/plain": [
       "<matplotlib.figure.Figure at 0x7f97e5229630>"
      ]
     },
     "metadata": {},
     "output_type": "display_data"
    },
    {
     "name": "stdout",
     "output_type": "stream",
     "text": [
      "0 699523\n",
      "count    1.294103e+06\n",
      "mean     7.769239e+01\n",
      "std      8.203872e+02\n",
      "min      0.000000e+00\n",
      "25%      8.000000e+00\n",
      "50%      1.500000e+01\n",
      "75%      3.000000e+01\n",
      "max      6.995230e+05\n",
      "dtype: float64\n"
     ]
    },
    {
     "data": {
      "text/plain": [
       "10       48427\n",
       "9        47765\n",
       "8        47582\n",
       "6        47012\n",
       "7        46803\n",
       "4        45719\n",
       "11       44402\n",
       "5        44237\n",
       "0        42403\n",
       "12       42318\n",
       "13       40118\n",
       "2        39204\n",
       "14       38696\n",
       "15       36199\n",
       "16       33289\n",
       "17       31599\n",
       "3        29486\n",
       "18       29057\n",
       "22       28594\n",
       "19       27505\n",
       "20       25791\n",
       "21       23844\n",
       "23       23052\n",
       "24       19610\n",
       "25       17301\n",
       "26       15217\n",
       "1        14327\n",
       "27       13747\n",
       "28       12597\n",
       "29       11576\n",
       "         ...  \n",
       "5532         1\n",
       "8393         1\n",
       "2463         1\n",
       "3023         1\n",
       "4003         1\n",
       "5945         1\n",
       "3488         1\n",
       "3272         1\n",
       "4512         1\n",
       "10990        1\n",
       "8610         1\n",
       "3025         1\n",
       "5542         1\n",
       "3493         1\n",
       "2469         1\n",
       "4931         1\n",
       "10052        1\n",
       "9639         1\n",
       "2247         1\n",
       "3905         1\n",
       "2246         1\n",
       "4046         1\n",
       "3270         1\n",
       "5024         1\n",
       "10187        1\n",
       "2249         1\n",
       "2794         1\n",
       "5322         1\n",
       "2467         1\n",
       "6072         1\n",
       "Length: 4830, dtype: int64"
      ]
     },
     "execution_count": 47,
     "metadata": {},
     "output_type": "execute_result"
    }
   ],
   "source": [
    "# 格力电器 000651\n",
    "import os\n",
    "import json\n",
    "import numpy as np\n",
    "import pandas as pd\n",
    "import matplotlib.pyplot as plt\n",
    "\n",
    "in_dir = '/home/kayzhou/Project/Guba_analysis/data/tweet'\n",
    "\n",
    "\n",
    "_list_len = []\n",
    "for i, in_name in enumerate(os.listdir(in_dir)):\n",
    "#     print(i)\n",
    "    if i > 50:\n",
    "        break\n",
    "    in_name = os.path.join(in_dir, in_name)\n",
    "    for j, line in enumerate(open(in_name)):\n",
    "#         print(line)\n",
    "        _list_len.append(len(json.loads(line)['content']))\n",
    "\n",
    "# _lens = [int(line.strip()) for line in open('data/content_len.txt') if int(line.strip()) < 10e3]\n",
    "# print('数据加载完成 ...')\n",
    "# x, cdf, pdf = get_cdf_pdf(_lens, 0, 1000, 10)\n",
    "# plt.plot(x, pdf)\n",
    "# plt.yscale('log')\n",
    "# plt.show()\n",
    "\n",
    "# # 股吧文本内容长度分析\n",
    "# _lens = pd.Series(_lens)\n",
    "# print(_lens.min(), _lens.max())\n",
    "# print(_lens.describe())\n",
    "    \n",
    "_lens = pd.Series(_list_len)\n",
    "# _lens = [int(line.strip()) for line in open('data/content_len.txt') if int(line.strip()) < 10e3]\n",
    "print('数据加载完成 ...')\n",
    "x, cdf, pdf = get_cdf_pdf(_lens, 0, 1000, 10)\n",
    "for k, v in zip(x, cdf):\n",
    "    print(k, v)\n",
    "plt.plot(x, cdf)\n",
    "# plt.yscale('log')\n",
    "plt.show()\n",
    "\n",
    "# 股吧文本内容长度分析\n",
    "print(_lens.min(), _lens.max())\n",
    "print(_lens.describe())\n",
    "_lens.value_counts()\n"
   ]
  },
  {
   "cell_type": "code",
   "execution_count": 26,
   "metadata": {
    "collapsed": true
   },
   "outputs": [],
   "source": [
    "# 网络分析\n",
    "\n",
    "# 数据举例\n",
    "'''\n",
    "{\n",
    "\"user_id\": \"4580094433568274\",\n",
    "\"name\": \"我想123321\",\n",
    "\"guba_age\": \"2.8年\",\n",
    "\"following_count\": 1,\n",
    "\"follower_count\": 1,\n",
    "\"post_count\": 10,\n",
    "\"intro\": \"这个人很懒，什么都没有留下\",\n",
    "\"stock_count\": 0,\n",
    "\"is_majia\": false,\n",
    "\"level\": 0,\n",
    "\"depth\": 1,\n",
    "\"download_timeout\": 180.0,\n",
    "\"download_slot\": \"iguba.eastmoney.com\",\n",
    "\"download_latency\": 0.12041616439819336,\n",
    "\"following_list\": [\"5459113765361614\"]\n",
    "}\n",
    "'''\n",
    "# 载入数据，爬虫获取\n",
    "data1 = pd.Series([len(json.loads(line.strip())['following_list']) for line in open('data/follow-2.txt')])\n",
    "# 载入数据，完整网络\n",
    "data2 = pd.Series([json.loads(line.strip())['following_count'] for line in open('data/follow-2.txt')])"
   ]
  },
  {
   "cell_type": "code",
   "execution_count": 27,
   "metadata": {},
   "outputs": [
    {
     "name": "stdout",
     "output_type": "stream",
     "text": [
      "count    788092.000000\n",
      "mean          8.424326\n",
      "std          12.112218\n",
      "min           0.000000\n",
      "25%           0.000000\n",
      "50%           2.000000\n",
      "75%          15.000000\n",
      "max          50.000000\n",
      "dtype: float64\n",
      "0.0 1.0\n",
      "1.0 0.6628134786293985\n",
      "2.0 0.5470275044030393\n",
      "3.0 0.48500809550154045\n",
      "4.0 0.44390502631672446\n",
      "5.0 0.41342635123818033\n",
      "6.0 0.3874649152637002\n",
      "7.0 0.3657263365190866\n",
      "8.0 0.34827659714855624\n",
      "9.0 0.33290783309562844\n",
      "10.0 0.31799333072788455\n",
      "11.0 0.30546179887627334\n",
      "12.0 0.29477015373839605\n",
      "13.0 0.27994574237525566\n",
      "14.0 0.267247986275714\n",
      "15.0 0.2558216553397319\n",
      "16.0 0.24514650573790878\n",
      "17.0 0.22733005791202043\n",
      "18.0 0.21483151713251752\n",
      "19.0 0.14414941402780387\n",
      "20.0 0.13055836120655964\n",
      "21.0 0.11822858244976475\n",
      "22.0 0.10720068215386021\n",
      "23.0 0.0964811214934297\n",
      "24.0 0.0865228932662684\n",
      "25.0 0.08194728534232044\n",
      "26.0 0.07776122584672855\n",
      "27.0 0.07405734355887383\n",
      "28.0 0.0705450632667252\n",
      "29.0 0.06743755805159804\n",
      "30.0 0.06476781898560066\n",
      "31.0 0.06114641437801678\n",
      "32.0 0.0585337752445146\n",
      "33.0 0.05631829786370119\n",
      "34.0 0.05431218690203682\n",
      "35.0 0.05243550245402821\n",
      "36.0 0.05067048009623242\n",
      "37.0 0.04909071529719881\n",
      "38.0 0.047523639372053006\n",
      "39.0 0.04605553666323221\n",
      "40.0 0.04478030483750628\n",
      "41.0 0.04349872857483644\n",
      "42.0 0.042346578825822365\n",
      "43.0 0.04126294899580252\n",
      "44.0 0.04022373022439005\n",
      "45.0 0.039237804723306416\n",
      "46.0 0.03824680367266766\n",
      "47.0 0.03731670921669044\n",
      "48.0 0.03642468138237668\n",
      "49.0 0.0355834090436142\n"
     ]
    },
    {
     "data": {
      "image/png": "[encoded data removed]",
      "text/plain": [
       "<matplotlib.figure.Figure at 0x7f658562def0>"
      ]
     },
     "metadata": {},
     "output_type": "display_data"
    }
   ],
   "source": [
    "# 爬虫获取网络\n",
    "\n",
    "print(data1.describe())\n",
    "                 \n",
    "x, cdf, pdf = get_cdf_pdf(data1, 0, 50, 1)\n",
    "for k, v in zip(x, cdf):\n",
    "    print(k, v)\n",
    "plt.loglog()\n",
    "plt.plot(x, cdf)\n",
    "# plt.yscale('log')\n",
    "plt.show()"
   ]
  },
  {
   "cell_type": "code",
   "execution_count": 33,
   "metadata": {
    "scrolled": false
   },
   "outputs": [
    {
     "name": "stdout",
     "output_type": "stream",
     "text": [
      "count    788092.000000\n",
      "mean         11.093081\n",
      "std          32.442096\n",
      "min           0.000000\n",
      "25%           0.000000\n",
      "50%           2.000000\n",
      "75%          15.000000\n",
      "max        1756.000000\n",
      "dtype: float64\n",
      "0.0 1.0\n",
      "5.0 0.4133187130049851\n",
      "10.0 0.31786522900104575\n",
      "15.0 0.2556818758693511\n",
      "20.0 0.13039632258130018\n",
      "25.0 0.08177357781771294\n",
      "30.0 0.06458834637994579\n",
      "35.0 0.05225878996476907\n",
      "40.0 0.04459834709065619\n",
      "45.0 0.039058613302468195\n",
      "50.0 0.03438696150995502\n",
      "55.0 0.03052247367833247\n",
      "60.0 0.027571756368472887\n",
      "65.0 0.025156610114424376\n",
      "70.0 0.02306762917161626\n",
      "75.0 0.02137207720345608\n",
      "80.0 0.019847857208126467\n",
      "85.0 0.018548272466063578\n",
      "90.0 0.017333719147553633\n",
      "95.0 0.016220695887017352\n",
      "100.0 0.015289157605108992\n",
      "105.0 0.014365234077548658\n",
      "110.0 0.013540302356512646\n",
      "115.0 0.012865127470987786\n",
      "120.0 0.012088422527489264\n",
      "125.0 0.008726508482836343\n",
      "130.0 0.007840658727016133\n",
      "135.0 0.007258130019392241\n",
      "140.0 0.006865970170468967\n",
      "145.0 0.006503000213213122\n",
      "150.0 0.006208563045089498\n",
      "155.0 0.005930624511386596\n",
      "160.0 0.005651416851959023\n",
      "165.0 0.005382362198328815\n",
      "170.0 0.005183109459555501\n",
      "175.0 0.004952128577665418\n",
      "180.0 0.004771912724762166\n",
      "185.0 0.004590427746134243\n",
      "190.0 0.004425441401927041\n",
      "195.0 0.004270608063517204\n",
      "200.0 0.0040903922106139525\n",
      "205.0 0.003903830729087346\n",
      "210.0 0.0037832637852436212\n",
      "215.0 0.0036614277156752258\n",
      "220.0 0.003547206400454855\n",
      "225.0 0.003455829348278558\n",
      "230.0 0.003360644918928249\n",
      "235.0 0.003269267866751952\n",
      "240.0 0.0031715451859523013\n",
      "245.0 0.0030788990080513334\n",
      "250.0 0.00299259845877372\n",
      "255.0 0.0028986831551480814\n",
      "260.0 0.002835226868914542\n",
      "265.0 0.002764155828332978\n",
      "270.0 0.0026930847877514137\n",
      "275.0 0.002625821124343862\n",
      "280.0 0.00257378696963236\n",
      "285.0 0.0025255601920948696\n",
      "290.0 0.002468449534484684\n",
      "295.0 0.0024176845054978526\n",
      "300.0 0.0023593047221629965\n",
      "305.0 0.0023098088189008356\n",
      "310.0 0.0022628511670880164\n",
      "315.0 0.002210817012376514\n",
      "320.0 0.0021587828576650116\n",
      "325.0 0.0021295929659975836\n",
      "330.0 0.0020927883199821306\n",
      "335.0 0.002062329302590032\n",
      "340.0 0.0020280629080239206\n",
      "345.0 0.002000142142081163\n",
      "350.0 0.001967144873239723\n",
      "355.0 0.0019278019757749281\n",
      "360.0 0.0018948047069334876\n",
      "365.0 0.0018668839409907304\n",
      "370.0 0.0018313484206999482\n",
      "375.0 0.0018021585290325202\n",
      "380.0 0.0017805833917131167\n",
      "385.0 0.00175393175149503\n",
      "390.0 0.0017234727341029312\n",
      "395.0 0.0016904754652614907\n",
      "400.0 0.0016485943163473545\n",
      "405.0 0.0016295574304772927\n",
      "410.0 0.0015990984130851938\n",
      "415.0 0.0015876762815631568\n",
      "420.0 0.0015711776471424364\n",
      "425.0 0.0015419877554750084\n",
      "430.0 0.0015216817438802757\n",
      "435.0 0.0014988374808362016\n",
      "440.0 0.0014759932177921273\n",
      "445.0 0.0014531489547480532\n",
      "450.0 0.0014277664402546375\n",
      "455.0 0.0014023839257612217\n",
      "460.0 0.0013833470398911599\n",
      "465.0 0.0013605027768470856\n",
      "470.0 0.0013414658909770237\n",
      "475.0 0.001322429005106962\n",
      "480.0 0.0012945082391642045\n",
      "485.0 0.0012640492217721056\n",
      "490.0 0.0012221680728579697\n",
      "495.0 0.0010977937518402323\n"
     ]
    },
    {
     "data": {
      "image/png": "[encoded data removed]",
      "text/plain": [
       "<matplotlib.figure.Figure at 0x7f659657f470>"
      ]
     },
     "metadata": {},
     "output_type": "display_data"
    }
   ],
   "source": [
    "# 完整网络\n",
    "\n",
    "# 实际关注数\n",
    "print(data2.describe())\n",
    "\n",
    "x, cdf, pdf = get_cdf_pdf(data2, 0, 500, 5)\n",
    "for k, v in zip(x, cdf):\n",
    "    print(k, v)\n",
    "plt.loglog()\n",
    "plt.plot(x, cdf)\n",
    "# plt.yscale('log')\n",
    "plt.show()"
   ]
  },
  {
   "cell_type": "markdown",
   "metadata": {},
   "source": [
    "## 探索用户和股市的关系\n",
    "\n",
    "用户关注了多少股票；\n",
    "每个用户关注了哪些股票；\n",
    "\n",
    "用户量：4,955,813\n",
    "\n",
    "tweet量：84,668,492"
   ]
  },
  {
   "cell_type": "code",
   "execution_count": 34,
   "metadata": {
    "scrolled": false
   },
   "outputs": [
    {
     "data": {
      "application/vnd.jupyter.widget-view+json": {
       "model_id": "7f5d97d220d347f9a4548910f0b7ee26"
      }
     },
     "metadata": {},
     "output_type": "display_data"
    },
    {
     "name": "stdout",
     "output_type": "stream",
     "text": [
      "\n",
      "4955813\n",
      "84668492\n"
     ]
    }
   ],
   "source": [
    "USER_STOCK_FILE = 'data/relation_user_stock.txt'\n",
    "\n",
    "all_user_count = 0 # 用户总量\n",
    "all_tweet_count = 0 # 总tweet数\n",
    "list_user_stock_count = [] # 每个用户的股票数量\n",
    "list_user_tweet_count = [] # 每个用户的tweet数量\n",
    "\n",
    "for line in tqdm(open(USER_STOCK_FILE)):\n",
    "    all_user_count += 1\n",
    "    user_tweet_count = 0\n",
    "    uid, stock_dict = line.strip().split(' @@ ')\n",
    "    stock_dict = json.loads(stock_dict)\n",
    "    \n",
    "    for stock in stock_dict:\n",
    "        user_tweet_count += stock_dict[stock]\n",
    "        all_tweet_count += stock_dict[stock]\n",
    "    user_stock_count = len(stock_dict)\n",
    "        \n",
    "    list_user_stock_count.append(user_stock_count)\n",
    "    list_user_tweet_count.append(user_tweet_count)\n",
    "    \n",
    "print(all_user_count)\n",
    "print(all_tweet_count)"
   ]
  },
  {
   "cell_type": "markdown",
   "metadata": {},
   "source": [
    "# 每个用户关注股票数量分布"
   ]
  },
  {
   "cell_type": "code",
   "execution_count": 50,
   "metadata": {},
   "outputs": [
    {
     "name": "stdout",
     "output_type": "stream",
     "text": [
      "count    4.955813e+06\n",
      "mean     5.100409e+00\n",
      "std      1.537124e+01\n",
      "min      1.000000e+00\n",
      "25%      1.000000e+00\n",
      "50%      2.000000e+00\n",
      "75%      4.000000e+00\n",
      "max      3.415000e+03\n",
      "dtype: float64\n"
     ]
    },
    {
     "data": {
      "application/vnd.jupyter.widget-view+json": {
       "model_id": "087c4cc6bdac491f935989a76c173407"
      }
     },
     "metadata": {},
     "output_type": "display_data"
    },
    {
     "name": "stdout",
     "output_type": "stream",
     "text": [
      "\n"
     ]
    },
    {
     "data": {
      "text/plain": [
       "[<matplotlib.lines.Line2D at 0x7f231c981e10>]"
      ]
     },
     "execution_count": 50,
     "metadata": {},
     "output_type": "execute_result"
    },
    {
     "data": {
      "image/png": "[encoded data removed]",
      "text/plain": [
       "<Figure size 432x288 with 1 Axes>"
      ]
     },
     "metadata": {},
     "output_type": "display_data"
    }
   ],
   "source": [
    "%matplotlib inline\n",
    "\n",
    "print(pd.Series(list_user_stock_count).describe())\n",
    "x, cdf, pdf = get_cdf_pdf(list_user_stock_count, 0, 50, 1)\n",
    "# for k, v in zip(x, cdf):\n",
    "#     print(k, v)\n",
    "# plt.loglog()\n",
    "# plt.yscale('log')\n",
    "# plt.xscale('log')\n",
    "plt.plot(x, cdf)"
   ]
  },
  {
   "cell_type": "markdown",
   "metadata": {},
   "source": [
    "# 每个用户的tweet数量分布"
   ]
  },
  {
   "cell_type": "code",
   "execution_count": 51,
   "metadata": {},
   "outputs": [
    {
     "name": "stdout",
     "output_type": "stream",
     "text": [
      "count    4.955813e+06\n",
      "mean     1.708468e+01\n",
      "std      1.356995e+02\n",
      "min      1.000000e+00\n",
      "25%      1.000000e+00\n",
      "50%      3.000000e+00\n",
      "75%      8.000000e+00\n",
      "max      1.407830e+05\n",
      "dtype: float64\n"
     ]
    },
    {
     "data": {
      "application/vnd.jupyter.widget-view+json": {
       "model_id": "b14f23486db644719af52022356af6c9"
      }
     },
     "metadata": {},
     "output_type": "display_data"
    },
    {
     "name": "stdout",
     "output_type": "stream",
     "text": [
      "\n"
     ]
    },
    {
     "data": {
      "text/plain": [
       "[<matplotlib.lines.Line2D at 0x7f231c95f550>]"
      ]
     },
     "execution_count": 51,
     "metadata": {},
     "output_type": "execute_result"
    },
    {
     "data": {
      "image/png": "[encoded data removed]",
      "text/plain": [
       "<Figure size 432x288 with 1 Axes>"
      ]
     },
     "metadata": {},
     "output_type": "display_data"
    }
   ],
   "source": [
    "print(pd.Series(list_user_tweet_count).describe())\n",
    "x, cdf, pdf = get_cdf_pdf(list_user_tweet_count, 0, 1000, 20)\n",
    "# for k, v in zip(x, cdf):\n",
    "#     print(k, v)\n",
    "# plt.loglog()\n",
    "# plt.yscale('log')\n",
    "# plt.xscale('log')\n",
    "plt.plot(x, cdf)"
   ]
  },
  {
   "cell_type": "code",
   "execution_count": 22,
   "metadata": {},
   "outputs": [
    {
     "data": {
      "application/vnd.jupyter.widget-view+json": {
       "model_id": "c688c8b705434509a270a1da8bb403b7"
      }
     },
     "metadata": {},
     "output_type": "display_data"
    },
    {
     "name": "stdout",
     "output_type": "stream",
     "text": [
      "\n"
     ]
    }
   ],
   "source": [
    "# 由股票出发，再统计一遍\n",
    "\n",
    "STOCK_USER_FILE = 'data/relation_stock_user.txt'\n",
    "\n",
    "list_stock_user_count = []\n",
    "list_stock_tweet_count = []\n",
    "\n",
    "for line in tqdm(open(STOCK_USER_FILE)):\n",
    "    tweet_count = 0\n",
    "    uid, stock_dict = line.strip().split('@@')\n",
    "    stock_dict = json.loads(stock_dict)\n",
    "    \n",
    "    for stock in stock_dict:\n",
    "        tweet_count += stock_dict[stock]\n",
    "    user_count = len(stock_dict)\n",
    "        \n",
    "    list_stock_user_count.append(user_count)\n",
    "    list_stock_tweet_count.append(tweet_count)"
   ]
  },
  {
   "cell_type": "markdown",
   "metadata": {},
   "source": [
    "# 每个股票被多少股民关注"
   ]
  },
  {
   "cell_type": "code",
   "execution_count": 49,
   "metadata": {},
   "outputs": [
    {
     "name": "stdout",
     "output_type": "stream",
     "text": [
      "count     3519.000000\n",
      "mean      7182.913043\n",
      "std       5428.465061\n",
      "min         42.000000\n",
      "25%       3567.500000\n",
      "50%       6094.000000\n",
      "75%       8913.000000\n",
      "max      46447.000000\n",
      "dtype: float64\n"
     ]
    },
    {
     "data": {
      "application/vnd.jupyter.widget-view+json": {
       "model_id": "90154b77d07c40a6ad03d21eb5031250"
      }
     },
     "metadata": {},
     "output_type": "display_data"
    },
    {
     "name": "stdout",
     "output_type": "stream",
     "text": [
      "\n"
     ]
    },
    {
     "data": {
      "text/plain": [
       "[<matplotlib.lines.Line2D at 0x7f231ca342e8>]"
      ]
     },
     "execution_count": 49,
     "metadata": {},
     "output_type": "execute_result"
    },
    {
     "data": {
      "image/png": "[encoded data removed]",
      "text/plain": [
       "<Figure size 432x288 with 1 Axes>"
      ]
     },
     "metadata": {},
     "output_type": "display_data"
    }
   ],
   "source": [
    "%matplotlib inline\n",
    "\n",
    "print(pd.Series(list_stock_user_count).describe())\n",
    "x, cdf, pdf = get_cdf_pdf(list_stock_user_count, 0, 50000, 100)\n",
    "# plt.yscale('log')\n",
    "plt.plot(x, cdf)"
   ]
  },
  {
   "cell_type": "markdown",
   "metadata": {},
   "source": [
    "# 每个股票下有多少讨论帖子"
   ]
  },
  {
   "cell_type": "code",
   "execution_count": 54,
   "metadata": {},
   "outputs": [
    {
     "name": "stdout",
     "output_type": "stream",
     "text": [
      "count      3519.000000\n",
      "mean      24060.384200\n",
      "std       22738.393374\n",
      "min          42.000000\n",
      "25%        9965.500000\n",
      "50%       17473.000000\n",
      "75%       29732.000000\n",
      "max      158444.000000\n",
      "dtype: float64\n"
     ]
    },
    {
     "data": {
      "application/vnd.jupyter.widget-view+json": {
       "model_id": "2064ce9d14854155908ad41d1970576f"
      }
     },
     "metadata": {},
     "output_type": "display_data"
    },
    {
     "name": "stdout",
     "output_type": "stream",
     "text": [
      "\n"
     ]
    },
    {
     "data": {
      "text/plain": [
       "[<matplotlib.lines.Line2D at 0x7f231ccbb198>]"
      ]
     },
     "execution_count": 54,
     "metadata": {},
     "output_type": "execute_result"
    },
    {
     "data": {
      "image/png": "[encoded data removed]",
      "text/plain": [
       "<Figure size 432x288 with 1 Axes>"
      ]
     },
     "metadata": {},
     "output_type": "display_data"
    }
   ],
   "source": [
    "print(pd.Series(list_stock_tweet_count).describe())\n",
    "x, cdf, pdf = get_cdf_pdf(list_stock_tweet_count, 0, 100000, 100)\n",
    "plt.yscale('log')\n",
    "# plt.xscale('log')\n",
    "plt.plot(x, cdf)"
   ]
  }
 ],
 "metadata": {
  "kernelspec": {
   "display_name": "Python 3",
   "language": "python",
   "name": "python3"
  },
  "language_info": {
   "codemirror_mode": {
    "name": "ipython",
    "version": 3
   },
   "file_extension": ".py",
   "mimetype": "text/x-python",
   "name": "python",
   "nbconvert_exporter": "python",
   "pygments_lexer": "ipython3",
   "version": "3.6.6"
  }
 },
 "nbformat": 4,
 "nbformat_minor": 2
}
